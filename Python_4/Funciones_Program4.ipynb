{
 "cells": [
  {
   "cell_type": "markdown",
   "id": "c6487116",
   "metadata": {},
   "source": [
    "# Introducción a los IDEs y Notebooks Prueba\n",
    "\n",
    "## ¿Qué es un IDE?\n",
    "Un **IDE (Entorno de Desarrollo Integrado)** es una herramienta que ayuda a los programadores a escribir, depurar y ejecutar su código. Un IDE incluye características como:\n",
    "\n",
    "- Resaltado de sintaxis.\n",
    "- Autocompletado.\n",
    "- Depuración.\n",
    "- Integración con sistemas de control de versiones (como Git).\n",
    "\n",
    "### Ejemplos de IDEs para Python:\n",
    "- Visual Studio Code\n",
    "- PyCharm\n",
    "- Thonny\n",
    "- Spyder\n",
    "\n",
    "## ¿Qué es un Notebook?\n",
    "Un **Notebook** (como Jupyter Notebook) es una herramienta interactiva para escribir y ejecutar código en pequeñas celdas. Permite combinar código, texto, gráficos y visualizaciones, lo que es ideal para aprender, experimentar y documentar el trabajo.\n",
    "\n",
    "En este cuaderno aprenderás a utilizar **funciones en Python**, una parte fundamental de la programación.\n"
   ]
  },
  {
   "cell_type": "markdown",
   "id": "a6b5d10b",
   "metadata": {},
   "source": [
    "# Funciones en Python\n",
    "\n",
    "Una **función** es un bloque de código que realiza una tarea específica y puede ser reutilizado.\n",
    "\n",
    "## ¿Por qué usamos funciones?\n",
    "- Para **organizar** el código.\n",
    "- Para **evitar repetir** el mismo código varias veces.\n",
    "- Para hacer el código más **limpio y entendible**.\n",
    "\n",
    "## Sintaxis básica\n",
    "```python\n",
    "def nombre_funcion():\n",
    "    # instrucciones\n",
    "```\n",
    "\n",
    "## Con parámetros\n",
    "```python\n",
    "def saludar(nombre):\n",
    "    print(\"Hola\", nombre)\n",
    "```\n",
    "\n",
    "## Con valor de retorno\n",
    "```python\n",
    "def cuadrado(x):\n",
    "    return x ** 2\n",
    "```\n"
   ]
  },
  {
   "cell_type": "code",
   "execution_count": null,
   "id": "5d7f2f9d",
   "metadata": {},
   "outputs": [],
   "source": [
    "# Ejemplo 1: Función sin parámetros\n",
    "def saludar():\n",
    "    print(\"¡Hola, clase!\")\n",
    "\n",
    "saludar()"
   ]
  },
  {
   "cell_type": "code",
   "execution_count": null,
   "id": "e51c3ccc",
   "metadata": {},
   "outputs": [],
   "source": [
    "# Ejemplo 2: Función con parámetros\n",
    "def saludar(nombre):\n",
    "    print(\"Hola\", nombre)\n",
    "\n",
    "saludar(\"Ana\")\n",
    "saludar(\"Pedro\")"
   ]
  },
  {
   "cell_type": "code",
   "execution_count": null,
   "id": "6f3d9050",
   "metadata": {},
   "outputs": [],
   "source": [
    "# Ejemplo 3: Función que retorna un valor\n",
    "def suma(a, b):\n",
    "    return a + b\n",
    "\n",
    "resultado = suma(5, 3)\n",
    "print(\"Resultado:\", resultado)"
   ]
  },
  {
   "cell_type": "markdown",
   "id": "8e8161f2",
   "metadata": {},
   "source": [
    "# Ejercicios propuestos\n",
    "\n",
    "## Nivel 1: Básico\n",
    "1. Define una función que imprima tu comida favorita.\n",
    "2. Define una función que reciba un número y lo multiplique por 10.\n",
    "3. Define una función que reciba dos números y devuelva su resta.\n",
    "\n",
    "## Nivel 2: Uso de `return`\n",
    "4. Crea una función que reciba una edad y diga si es mayor o menor de edad.\n",
    "5. Crea una función que devuelva el área de un rectángulo (base x altura).\n",
    "\n",
    "## Nivel 3: Uso de condicionales y bucles\n",
    "6. Escribe una función que reciba un número y diga si es par o impar.\n",
    "7. Crea una función que reciba una lista de números y devuelva su suma (usa un `for`).\n"
   ]
  }
 ],
 "metadata": {
  "language_info": {
   "name": "python"
  }
 },
 "nbformat": 4,
 "nbformat_minor": 5
}
