{
 "cells": [
  {
   "cell_type": "markdown",
   "id": "a35d4ec0",
   "metadata": {},
   "source": [
    "# Soluciones a los ejercicios de funciones en Python"
   ]
  },
  {
   "cell_type": "markdown",
   "id": "c83d85a9",
   "metadata": {},
   "source": [
    "## Nivel 1: Básico"
   ]
  },
  {
   "cell_type": "code",
   "execution_count": null,
   "id": "0e5730c6",
   "metadata": {},
   "outputs": [],
   "source": [
    "# Ejercicio 1: Función que imprime tu comida favorita\n",
    "def comida_favorita():\n",
    "    print(\"Mi comida favorita es la pizza.\")\n",
    "\n",
    "comida_favorita()"
   ]
  },
  {
   "cell_type": "code",
   "execution_count": null,
   "id": "71766fab",
   "metadata": {},
   "outputs": [],
   "source": [
    "# Ejercicio 2: Multiplicar un número por 10\n",
    "def multiplicar_por_diez(numero):\n",
    "    print(numero * 10)\n",
    "\n",
    "multiplicar_por_diez(5)"
   ]
  },
  {
   "cell_type": "code",
   "execution_count": null,
   "id": "56d089f0",
   "metadata": {},
   "outputs": [],
   "source": [
    "# Ejercicio 3: Resta de dos números\n",
    "def restar(a, b):\n",
    "    return a - b\n",
    "\n",
    "print(\"Resultado:\", restar(10, 3))"
   ]
  },
  {
   "cell_type": "markdown",
   "id": "3ea47ae0",
   "metadata": {},
   "source": [
    "## Nivel 2: Uso de `return`"
   ]
  },
  {
   "cell_type": "code",
   "execution_count": null,
   "id": "a0dd1e9b",
   "metadata": {},
   "outputs": [],
   "source": [
    "# Ejercicio 4: Comprobar si es mayor de edad\n",
    "def es_mayor_de_edad(edad):\n",
    "    if edad >= 18:\n",
    "        return \"Mayor de edad\"\n",
    "    else:\n",
    "        return \"Menor de edad\"\n",
    "\n",
    "print(es_mayor_de_edad(16))"
   ]
  },
  {
   "cell_type": "code",
   "execution_count": null,
   "id": "dfc5e41d",
   "metadata": {},
   "outputs": [],
   "source": [
    "# Ejercicio 5: Área de un rectángulo\n",
    "def area_rectangulo(base, altura):\n",
    "    return base * altura\n",
    "\n",
    "print(\"Área:\", area_rectangulo(5, 3))"
   ]
  },
  {
   "cell_type": "markdown",
   "id": "b337c6f2",
   "metadata": {},
   "source": [
    "## Nivel 3: Condicionales y bucles"
   ]
  },
  {
   "cell_type": "code",
   "execution_count": null,
   "id": "9c0e059d",
   "metadata": {},
   "outputs": [],
   "source": [
    "# Ejercicio 6: Par o impar\n",
    "def par_o_impar(numero):\n",
    "    if numero % 2 == 0:\n",
    "        return \"Par\"\n",
    "    else:\n",
    "        return \"Impar\"\n",
    "\n",
    "print(par_o_impar(7))"
   ]
  },
  {
   "cell_type": "code",
   "execution_count": null,
   "id": "8cd6ed52",
   "metadata": {},
   "outputs": [],
   "source": [
    "# Ejercicio 7: Suma de lista de números\n",
    "def sumar_lista(numeros):\n",
    "    suma = 0\n",
    "    for num in numeros:\n",
    "        suma += num\n",
    "    return suma\n",
    "\n",
    "print(\"Suma:\", sumar_lista([1, 2, 3, 4, 5]))"
   ]
  }
 ],
 "metadata": {},
 "nbformat": 4,
 "nbformat_minor": 5
}
