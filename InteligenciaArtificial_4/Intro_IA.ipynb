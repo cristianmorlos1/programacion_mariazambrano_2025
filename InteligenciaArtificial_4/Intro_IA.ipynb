{
 "cells": [
  {
   "cell_type": "markdown",
   "id": "cdf3a944",
   "metadata": {},
   "source": [
    "# 🧠 ¿Qué es la Inteligencia Artificial?\n",
    "\n",
    "La Inteligencia Artificial (IA) es la capacidad que tienen las máquinas o programas para imitar algunas funciones del pensamiento humano, como aprender, razonar, resolver problemas o tomar decisiones.\n",
    "\n",
    "En lugar de seguir instrucciones fijas paso a paso, los sistemas con IA pueden aprender de los datos y mejorar con la experiencia."
   ]
  },
  {
   "cell_type": "markdown",
   "id": "eb02d36c",
   "metadata": {},
   "source": [
    "## 🤖 ¿Dónde vemos la IA en la vida real?\n",
    "\n",
    "Seguro que ya has usado IA sin darte cuenta. Algunos ejemplos:\n",
    "\n",
    "    🎤 Asistentes virtuales como Siri, Alexa o el Asistente de Google.\n",
    "\n",
    "    📺 Recomendaciones en YouTube, Netflix o Spotify.\n",
    "\n",
    "    📧 Filtros antispam en el correo electrónico.\n",
    "\n",
    "    📱 Reconocimiento facial para desbloquear el móvil.\n",
    "\n",
    "    🌍 Traducción automática (como Google Translate).\n",
    "\n",
    "    🚗 Coches autónomos que conducen solos."
   ]
  },
  {
   "cell_type": "markdown",
   "id": "f9d9f27e",
   "metadata": {},
   "source": [
    "## ⚙️ ¿Cómo funciona la IA?\n",
    "\n",
    "La mayoría de los sistemas de IA actuales aprenden a partir de datos. Cuantos más datos tienen, mejor pueden hacer su tarea.\n",
    "\n",
    "Por ejemplo, si queremos que un programa reconozca imágenes de gatos:\n",
    "\n",
    "    - Le damos miles de imágenes de gatos y de otras cosas.\n",
    "\n",
    "    - El programa aprende a reconocer patrones: orejas, bigotes, forma del cuerpo, etc.\n",
    "\n",
    "    - Luego, puede adivinar si una imagen nueva es o no un gato."
   ]
  },
  {
   "cell_type": "markdown",
   "id": "41c4dcfc",
   "metadata": {},
   "source": [
    "# 🧠 ¿Qué es el Aprendizaje Automático (Machine Learning)?\n",
    "\n",
    "El Aprendizaje Automático, también llamado Machine Learning (ML), es una rama de la Inteligencia Artificial que permite a las máquinas aprender a partir de datos, sin que las personas tengan que programarlas paso a paso.\n",
    "\n",
    "En lugar de decirle al ordenador qué hacer, le damos ejemplos y él aprende por sí solo a tomar decisiones o hacer predicciones."
   ]
  },
  {
   "cell_type": "markdown",
   "id": "2150d409",
   "metadata": {},
   "source": [
    "En Machine Learning hay tres formas principales de aprender:\n",
    "1. **Aprendizaje Supervisado**\n",
    "\n",
    "    Le damos datos de entrada y la respuesta correcta.\n",
    "\n",
    "    Ejemplo: imágenes de frutas con su nombre (manzana, plátano, fresa).\n",
    "\n",
    "    El programa aprende a relacionar la entrada con la respuesta.\n",
    "\n",
    "2. **Aprendizaje No Supervisado**\n",
    "\n",
    "    Solo le damos datos de entrada, sin decirle la respuesta.\n",
    "\n",
    "    La máquina busca patrones por sí sola.\n",
    "\n",
    "    Ejemplo: un programa agrupa canciones por estilo sin saber los géneros de antemano.\n",
    "3. **Aprendizaje por Refuerzo**\n",
    "\n",
    "    La máquina toma decisiones y recibe recompensas o castigos.\n",
    "\n",
    "    Aprende a mejorar su comportamiento con la experiencia.\n",
    "\n",
    "    Ejemplo: un robot aprende a caminar sin caerse, recibiendo puntos cuando lo hace bien."
   ]
  },
  {
   "cell_type": "markdown",
   "id": "a7b37461",
   "metadata": {},
   "source": [
    "🧮 ¿Qué tipos de problemas puede resolver el ML?\n",
    "\n",
    "- Clasificación: decidir entre varias opciones (por ejemplo, si una imagen es de un gato o un perro).\n",
    "\n",
    "- Regresión: predecir un número (por ejemplo, el precio de una casa).\n",
    "\n",
    "- Agrupamiento: encontrar grupos en los datos (por ejemplo, tipos de clientes).\n",
    "\n",
    "- Detección de anomalías: detectar cosas raras (por ejemplo, si una tarjeta está siendo usada por un ladrón)."
   ]
  },
  {
   "cell_type": "markdown",
   "id": "478c04c6",
   "metadata": {},
   "source": [
    "# 🧠 ¿Qué son las Redes Neuronales?\n",
    "\n",
    "Las Redes Neuronales Artificiales son un tipo de modelo dentro del Aprendizaje Automático que está inspirado en el cerebro humano.\n",
    "\n",
    "En nuestro cerebro, las neuronas se comunican entre sí para procesar información. Las redes neuronales artificiales hacen algo parecido: están formadas por neuronas artificiales conectadas entre sí, que reciben información, la procesan y generan una salida."
   ]
  },
  {
   "cell_type": "markdown",
   "id": "26aa7039",
   "metadata": {},
   "source": [
    "🧱 ¿Cómo es una red neuronal?\n",
    "\n",
    "Una red neuronal tiene varias capas:\n",
    "1. **Capa de entrada**\n",
    "\n",
    "    Recibe los datos (por ejemplo, los píxeles de una imagen).\n",
    "\n",
    "2. **Capas ocultas**\n",
    "\n",
    "    Procesan la información aplicando operaciones matemáticas.\n",
    "\n",
    "    Aquí ocurre el \"aprendizaje\".\n",
    "\n",
    "3. **Capa de salida**\n",
    "\n",
    "    Da el resultado final (por ejemplo, “esto es un gato”).\n",
    "\n",
    "🔁 Las redes ajustan los pesos de sus conexiones para aprender, igual que ajustamos nuestras ideas cuando aprendemos de los errores."
   ]
  },
  {
   "cell_type": "markdown",
   "id": "fa76314b",
   "metadata": {},
   "source": [
    "💡 ¿Qué es una neurona artificial?\n",
    "\n",
    "Cada neurona artificial:\n",
    "\n",
    "    Recibe varios números (entradas).\n",
    "\n",
    "    Les aplica una operación matemática.\n",
    "\n",
    "    Decide si “se activa” (da un número alto) o no.\n",
    "\n",
    "    Pasa la información a las siguientes neuronas.\n",
    "\n",
    "🔧 Durante el entrenamiento, el sistema cambia los valores internos (pesos) para mejorar."
   ]
  },
  {
   "cell_type": "markdown",
   "id": "e588e5dd",
   "metadata": {},
   "source": [
    "# 🧠 Redes neuronales profundas\n",
    "\n",
    "Cuando una red tiene muchas capas ocultas, se llama Red Neuronal Profunda (Deep Learning). Cuantas más capas, más complejas son las cosas que puede aprender (como distinguir entre 100 razas de perros).\n",
    "\n",
    "🖼️ ¿Y las redes para imágenes?\n",
    "\n",
    "Cuando trabajamos con imágenes, usamos un tipo especial de red llamada:\n",
    "🔍 Red Neuronal Convolucional (CNN)\n",
    "\n",
    "    Detecta bordes, formas, texturas y otros patrones visuales.\n",
    "\n",
    "    Funciona muy bien con fotografías, radiografías, dibujos, etc."
   ]
  }
 ],
 "metadata": {
  "language_info": {
   "name": "python"
  }
 },
 "nbformat": 4,
 "nbformat_minor": 5
}
